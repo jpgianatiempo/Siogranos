{
 "cells": [
  {
   "cell_type": "markdown",
   "metadata": {},
   "source": [
    "# **Sio-Granos EDA**\n",
    "\n",
    "## **Importo las librerias a utilizar**"
   ]
  },
  {
   "cell_type": "code",
   "execution_count": 1,
   "metadata": {},
   "outputs": [],
   "source": [
    "import numpy as np\n",
    "import pandas as pd\n",
    "import seaborn as sns\n",
    "import matplotlib.pyplot as plt\n",
    "import os\n",
    "import altair as alt"
   ]
  },
  {
   "cell_type": "markdown",
   "metadata": {},
   "source": [
    "## **Cargo la data preprocesada del output**"
   ]
  },
  {
   "cell_type": "code",
   "execution_count": 2,
   "metadata": {},
   "outputs": [
    {
     "name": "stdout",
     "output_type": "stream",
     "text": [
      "Puede continuar con EDA.py\n"
     ]
    }
   ],
   "source": [
    "\n",
    "if os.path.isfile(\"./Data/Output/data.csv\"):\n",
    "    data = pd.read_csv(\"./Data/Output/data.csv\",sep=',',encoding='utf-8',index_col=0)\n",
    "    print(\"Puede continuar con EDA.py\")\n",
    "else:\n",
    "    print(\"Correr prepro.py para obtener los datos preprocesados\")"
   ]
  },
  {
   "cell_type": "markdown",
   "metadata": {},
   "source": [
    "## **Primeras vistas de los datos**\n",
    "\n",
    "### *Primeros 7 registros*"
   ]
  },
  {
   "cell_type": "code",
   "execution_count": 3,
   "metadata": {},
   "outputs": [
    {
     "data": {
      "text/html": [
       "<div>\n",
       "<style scoped>\n",
       "    .dataframe tbody tr th:only-of-type {\n",
       "        vertical-align: middle;\n",
       "    }\n",
       "\n",
       "    .dataframe tbody tr th {\n",
       "        vertical-align: top;\n",
       "    }\n",
       "\n",
       "    .dataframe thead th {\n",
       "        text-align: right;\n",
       "    }\n",
       "</style>\n",
       "<table border=\"1\" class=\"dataframe\">\n",
       "  <thead>\n",
       "    <tr style=\"text-align: right;\">\n",
       "      <th></th>\n",
       "      <th>Provincia</th>\n",
       "      <th>Cultivo</th>\n",
       "      <th>LugarEntrega</th>\n",
       "      <th>Mes</th>\n",
       "      <th>Ano</th>\n",
       "      <th>CantTns</th>\n",
       "      <th>EsFinal</th>\n",
       "      <th>EleccionesNac</th>\n",
       "      <th>EleccionesPre</th>\n",
       "      <th>ProdTns</th>\n",
       "      <th>EstresClimatico</th>\n",
       "      <th>MismaProvDestino</th>\n",
       "    </tr>\n",
       "  </thead>\n",
       "  <tbody>\n",
       "    <tr>\n",
       "      <th>0</th>\n",
       "      <td>BUENOS AIRES</td>\n",
       "      <td>Maiz</td>\n",
       "      <td>B.Blanca</td>\n",
       "      <td>1</td>\n",
       "      <td>2015.0</td>\n",
       "      <td>919.42</td>\n",
       "      <td>True</td>\n",
       "      <td>True</td>\n",
       "      <td>True</td>\n",
       "      <td>8893434.0</td>\n",
       "      <td>True</td>\n",
       "      <td>True</td>\n",
       "    </tr>\n",
       "    <tr>\n",
       "      <th>1</th>\n",
       "      <td>BUENOS AIRES</td>\n",
       "      <td>Maiz</td>\n",
       "      <td>B.Blanca</td>\n",
       "      <td>1</td>\n",
       "      <td>2016.0</td>\n",
       "      <td>38120.00</td>\n",
       "      <td>True</td>\n",
       "      <td>False</td>\n",
       "      <td>False</td>\n",
       "      <td>10147679.0</td>\n",
       "      <td>True</td>\n",
       "      <td>True</td>\n",
       "    </tr>\n",
       "    <tr>\n",
       "      <th>2</th>\n",
       "      <td>BUENOS AIRES</td>\n",
       "      <td>Maiz</td>\n",
       "      <td>B.Blanca</td>\n",
       "      <td>1</td>\n",
       "      <td>2017.0</td>\n",
       "      <td>12845.04</td>\n",
       "      <td>True</td>\n",
       "      <td>True</td>\n",
       "      <td>False</td>\n",
       "      <td>12955509.0</td>\n",
       "      <td>True</td>\n",
       "      <td>True</td>\n",
       "    </tr>\n",
       "    <tr>\n",
       "      <th>3</th>\n",
       "      <td>BUENOS AIRES</td>\n",
       "      <td>Maiz</td>\n",
       "      <td>B.Blanca</td>\n",
       "      <td>1</td>\n",
       "      <td>2018.0</td>\n",
       "      <td>49405.00</td>\n",
       "      <td>True</td>\n",
       "      <td>False</td>\n",
       "      <td>False</td>\n",
       "      <td>12770903.0</td>\n",
       "      <td>True</td>\n",
       "      <td>True</td>\n",
       "    </tr>\n",
       "    <tr>\n",
       "      <th>4</th>\n",
       "      <td>BUENOS AIRES</td>\n",
       "      <td>Maiz</td>\n",
       "      <td>B.Blanca</td>\n",
       "      <td>1</td>\n",
       "      <td>2019.0</td>\n",
       "      <td>15808.00</td>\n",
       "      <td>True</td>\n",
       "      <td>True</td>\n",
       "      <td>True</td>\n",
       "      <td>16770895.0</td>\n",
       "      <td>True</td>\n",
       "      <td>True</td>\n",
       "    </tr>\n",
       "    <tr>\n",
       "      <th>5</th>\n",
       "      <td>BUENOS AIRES</td>\n",
       "      <td>Maiz</td>\n",
       "      <td>B.Blanca</td>\n",
       "      <td>1</td>\n",
       "      <td>2020.0</td>\n",
       "      <td>24770.00</td>\n",
       "      <td>True</td>\n",
       "      <td>False</td>\n",
       "      <td>False</td>\n",
       "      <td>NaN</td>\n",
       "      <td>False</td>\n",
       "      <td>True</td>\n",
       "    </tr>\n",
       "    <tr>\n",
       "      <th>6</th>\n",
       "      <td>BUENOS AIRES</td>\n",
       "      <td>Maiz</td>\n",
       "      <td>B.Blanca</td>\n",
       "      <td>2</td>\n",
       "      <td>2015.0</td>\n",
       "      <td>114627.03</td>\n",
       "      <td>True</td>\n",
       "      <td>True</td>\n",
       "      <td>True</td>\n",
       "      <td>8893434.0</td>\n",
       "      <td>True</td>\n",
       "      <td>True</td>\n",
       "    </tr>\n",
       "  </tbody>\n",
       "</table>\n",
       "</div>"
      ],
      "text/plain": [
       "      Provincia Cultivo LugarEntrega  Mes     Ano    CantTns  EsFinal  \\\n",
       "0  BUENOS AIRES    Maiz     B.Blanca    1  2015.0     919.42     True   \n",
       "1  BUENOS AIRES    Maiz     B.Blanca    1  2016.0   38120.00     True   \n",
       "2  BUENOS AIRES    Maiz     B.Blanca    1  2017.0   12845.04     True   \n",
       "3  BUENOS AIRES    Maiz     B.Blanca    1  2018.0   49405.00     True   \n",
       "4  BUENOS AIRES    Maiz     B.Blanca    1  2019.0   15808.00     True   \n",
       "5  BUENOS AIRES    Maiz     B.Blanca    1  2020.0   24770.00     True   \n",
       "6  BUENOS AIRES    Maiz     B.Blanca    2  2015.0  114627.03     True   \n",
       "\n",
       "   EleccionesNac  EleccionesPre     ProdTns  EstresClimatico  MismaProvDestino  \n",
       "0           True           True   8893434.0             True              True  \n",
       "1          False          False  10147679.0             True              True  \n",
       "2           True          False  12955509.0             True              True  \n",
       "3          False          False  12770903.0             True              True  \n",
       "4           True           True  16770895.0             True              True  \n",
       "5          False          False         NaN            False              True  \n",
       "6           True           True   8893434.0             True              True  "
      ]
     },
     "execution_count": 3,
     "metadata": {},
     "output_type": "execute_result"
    }
   ],
   "source": [
    "data.head(7)"
   ]
  },
  {
   "cell_type": "markdown",
   "metadata": {},
   "source": [
    "### *Random de 7 registros*"
   ]
  },
  {
   "cell_type": "code",
   "execution_count": 4,
   "metadata": {},
   "outputs": [
    {
     "data": {
      "text/html": [
       "<div>\n",
       "<style scoped>\n",
       "    .dataframe tbody tr th:only-of-type {\n",
       "        vertical-align: middle;\n",
       "    }\n",
       "\n",
       "    .dataframe tbody tr th {\n",
       "        vertical-align: top;\n",
       "    }\n",
       "\n",
       "    .dataframe thead th {\n",
       "        text-align: right;\n",
       "    }\n",
       "</style>\n",
       "<table border=\"1\" class=\"dataframe\">\n",
       "  <thead>\n",
       "    <tr style=\"text-align: right;\">\n",
       "      <th></th>\n",
       "      <th>Provincia</th>\n",
       "      <th>Cultivo</th>\n",
       "      <th>LugarEntrega</th>\n",
       "      <th>Mes</th>\n",
       "      <th>Ano</th>\n",
       "      <th>CantTns</th>\n",
       "      <th>EsFinal</th>\n",
       "      <th>EleccionesNac</th>\n",
       "      <th>EleccionesPre</th>\n",
       "      <th>ProdTns</th>\n",
       "      <th>EstresClimatico</th>\n",
       "      <th>MismaProvDestino</th>\n",
       "    </tr>\n",
       "  </thead>\n",
       "  <tbody>\n",
       "    <tr>\n",
       "      <th>22200</th>\n",
       "      <td>BUENOS AIRES</td>\n",
       "      <td>Maiz</td>\n",
       "      <td>Zona 12</td>\n",
       "      <td>10</td>\n",
       "      <td>2019.0</td>\n",
       "      <td>680.00</td>\n",
       "      <td>False</td>\n",
       "      <td>True</td>\n",
       "      <td>True</td>\n",
       "      <td>16770895.0</td>\n",
       "      <td>True</td>\n",
       "      <td>False</td>\n",
       "    </tr>\n",
       "    <tr>\n",
       "      <th>4259</th>\n",
       "      <td>CHACO</td>\n",
       "      <td>Maiz</td>\n",
       "      <td>Zona 15</td>\n",
       "      <td>9</td>\n",
       "      <td>2018.0</td>\n",
       "      <td>2459.35</td>\n",
       "      <td>True</td>\n",
       "      <td>False</td>\n",
       "      <td>False</td>\n",
       "      <td>1604355.0</td>\n",
       "      <td>False</td>\n",
       "      <td>True</td>\n",
       "    </tr>\n",
       "    <tr>\n",
       "      <th>19909</th>\n",
       "      <td>SANTIAGO DEL ESTERO</td>\n",
       "      <td>Soja total</td>\n",
       "      <td>Zona 16</td>\n",
       "      <td>4</td>\n",
       "      <td>2016.0</td>\n",
       "      <td>1132.26</td>\n",
       "      <td>True</td>\n",
       "      <td>False</td>\n",
       "      <td>False</td>\n",
       "      <td>2498134.0</td>\n",
       "      <td>False</td>\n",
       "      <td>False</td>\n",
       "    </tr>\n",
       "    <tr>\n",
       "      <th>21287</th>\n",
       "      <td>TUCUMAN</td>\n",
       "      <td>Soja total</td>\n",
       "      <td>Zona 11</td>\n",
       "      <td>4</td>\n",
       "      <td>2015.0</td>\n",
       "      <td>3350.00</td>\n",
       "      <td>True</td>\n",
       "      <td>True</td>\n",
       "      <td>True</td>\n",
       "      <td>413749.0</td>\n",
       "      <td>False</td>\n",
       "      <td>False</td>\n",
       "    </tr>\n",
       "    <tr>\n",
       "      <th>7770</th>\n",
       "      <td>CORDOBA</td>\n",
       "      <td>Soja total</td>\n",
       "      <td>Zona 10</td>\n",
       "      <td>6</td>\n",
       "      <td>2017.0</td>\n",
       "      <td>18608.79</td>\n",
       "      <td>True</td>\n",
       "      <td>True</td>\n",
       "      <td>False</td>\n",
       "      <td>15659788.0</td>\n",
       "      <td>False</td>\n",
       "      <td>True</td>\n",
       "    </tr>\n",
       "    <tr>\n",
       "      <th>8954</th>\n",
       "      <td>CORDOBA</td>\n",
       "      <td>Trigo total</td>\n",
       "      <td>Zona 14</td>\n",
       "      <td>1</td>\n",
       "      <td>2019.0</td>\n",
       "      <td>2239.10</td>\n",
       "      <td>True</td>\n",
       "      <td>True</td>\n",
       "      <td>True</td>\n",
       "      <td>3271488.0</td>\n",
       "      <td>False</td>\n",
       "      <td>False</td>\n",
       "    </tr>\n",
       "    <tr>\n",
       "      <th>16968</th>\n",
       "      <td>SANTA FE</td>\n",
       "      <td>Soja total</td>\n",
       "      <td>Quequen</td>\n",
       "      <td>4</td>\n",
       "      <td>2015.0</td>\n",
       "      <td>638.00</td>\n",
       "      <td>True</td>\n",
       "      <td>True</td>\n",
       "      <td>True</td>\n",
       "      <td>11804131.0</td>\n",
       "      <td>False</td>\n",
       "      <td>False</td>\n",
       "    </tr>\n",
       "  </tbody>\n",
       "</table>\n",
       "</div>"
      ],
      "text/plain": [
       "                 Provincia      Cultivo LugarEntrega  Mes     Ano   CantTns  \\\n",
       "22200         BUENOS AIRES         Maiz      Zona 12   10  2019.0    680.00   \n",
       "4259                 CHACO         Maiz      Zona 15    9  2018.0   2459.35   \n",
       "19909  SANTIAGO DEL ESTERO   Soja total      Zona 16    4  2016.0   1132.26   \n",
       "21287              TUCUMAN   Soja total      Zona 11    4  2015.0   3350.00   \n",
       "7770               CORDOBA   Soja total      Zona 10    6  2017.0  18608.79   \n",
       "8954               CORDOBA  Trigo total      Zona 14    1  2019.0   2239.10   \n",
       "16968             SANTA FE   Soja total      Quequen    4  2015.0    638.00   \n",
       "\n",
       "       EsFinal  EleccionesNac  EleccionesPre     ProdTns  EstresClimatico  \\\n",
       "22200    False           True           True  16770895.0             True   \n",
       "4259      True          False          False   1604355.0            False   \n",
       "19909     True          False          False   2498134.0            False   \n",
       "21287     True           True           True    413749.0            False   \n",
       "7770      True           True          False  15659788.0            False   \n",
       "8954      True           True           True   3271488.0            False   \n",
       "16968     True           True           True  11804131.0            False   \n",
       "\n",
       "       MismaProvDestino  \n",
       "22200             False  \n",
       "4259               True  \n",
       "19909             False  \n",
       "21287             False  \n",
       "7770               True  \n",
       "8954              False  \n",
       "16968             False  "
      ]
     },
     "execution_count": 4,
     "metadata": {},
     "output_type": "execute_result"
    }
   ],
   "source": [
    "data.sample(n=7)"
   ]
  },
  {
   "cell_type": "markdown",
   "metadata": {},
   "source": [
    "### *¿Cúal es el tamaño de la data?*"
   ]
  },
  {
   "cell_type": "code",
   "execution_count": 5,
   "metadata": {},
   "outputs": [
    {
     "name": "stdout",
     "output_type": "stream",
     "text": [
      "filas = 33325, columnas = 12\n"
     ]
    }
   ],
   "source": [
    "rows, columns = data.shape\n",
    "print(f\"filas = {rows}, columnas = {columns}\")"
   ]
  },
  {
   "cell_type": "markdown",
   "metadata": {},
   "source": [
    "### *Formato y contenido de las columnas*\n",
    "\n",
    "**Contenido de las columnas:**\n",
    "* *Provincia*: Provincia de origen.\n",
    "* *Cultivo*: Tipo de cultivo, opciones Maíz, Soja o Trigo.\n",
    "* *LugarEntrega*: Zona de entrega según SIO-GRANOS.\n",
    "* *Mes*: Mes del flujo de comercialización.\n",
    "* *Ano*: Año del flujo de comercialización.\n",
    "* *CantTns*: Cantidad de granos comercializada en toneladas.\n",
    "* *EsFinal*: Boolean que indica si es destino final o no.\n",
    "* *EleccionesNac*: Boolean que indica si en el año hubo elecciones nacionales.\n",
    "* *EleccionesPre*: Boolean que indica si en el año hubo elecciones presidenciales.\n",
    "* *ProdTns*: Cantidad de granos producida en toneladas.\n",
    "* *EstresClimatico*: Boolean que indica si hubo una pérdida de área superior al 20%.\n",
    "* *MismaProvDestino*: Boolean que indica si la zona de entrega incluye la provincia de origen.\n"
   ]
  },
  {
   "cell_type": "code",
   "execution_count": 6,
   "metadata": {},
   "outputs": [
    {
     "name": "stdout",
     "output_type": "stream",
     "text": [
      "<class 'pandas.core.frame.DataFrame'>\n",
      "Int64Index: 33325 entries, 0 to 33324\n",
      "Data columns (total 12 columns):\n",
      "Provincia           33325 non-null object\n",
      "Cultivo             33325 non-null object\n",
      "LugarEntrega        33325 non-null object\n",
      "Mes                 33325 non-null int64\n",
      "Ano                 33325 non-null float64\n",
      "CantTns             33325 non-null float64\n",
      "EsFinal             33325 non-null bool\n",
      "EleccionesNac       33325 non-null bool\n",
      "EleccionesPre       33325 non-null bool\n",
      "ProdTns             30497 non-null float64\n",
      "EstresClimatico     33325 non-null bool\n",
      "MismaProvDestino    33325 non-null bool\n",
      "dtypes: bool(5), float64(3), int64(1), object(3)\n",
      "memory usage: 2.2+ MB\n"
     ]
    }
   ],
   "source": [
    "data.info()"
   ]
  },
  {
   "cell_type": "markdown",
   "metadata": {},
   "source": [
    "#### *Cambio a categoria Mes y Año*"
   ]
  },
  {
   "cell_type": "code",
   "execution_count": 7,
   "metadata": {},
   "outputs": [],
   "source": [
    "data['Mes'] = data['Mes'].astype('category')\n",
    "data['Ano'] = data['Ano'].astype('category')"
   ]
  },
  {
   "cell_type": "markdown",
   "metadata": {},
   "source": [
    "### *Todos los nulos se encuentran en la columna ProdTns*"
   ]
  },
  {
   "cell_type": "code",
   "execution_count": 8,
   "metadata": {},
   "outputs": [
    {
     "data": {
      "text/plain": [
       "Provincia              0\n",
       "Cultivo                0\n",
       "LugarEntrega           0\n",
       "Mes                    0\n",
       "Ano                    0\n",
       "CantTns                0\n",
       "EsFinal                0\n",
       "EleccionesNac          0\n",
       "EleccionesPre          0\n",
       "ProdTns             2828\n",
       "EstresClimatico        0\n",
       "MismaProvDestino       0\n",
       "dtype: int64"
      ]
     },
     "execution_count": 8,
     "metadata": {},
     "output_type": "execute_result"
    }
   ],
   "source": [
    "data.isnull().sum()"
   ]
  },
  {
   "cell_type": "markdown",
   "metadata": {},
   "source": [
    "Esto se produce por dos motivos: \n",
    "\n",
    "* No existen estimaciones de producción oficiales a nivel de localidad o provincia para el 2020, 2021 y 2022\n"
   ]
  },
  {
   "cell_type": "code",
   "execution_count": 9,
   "metadata": {},
   "outputs": [
    {
     "data": {
      "text/plain": [
       "2020.0    1519\n",
       "2019.0     301\n",
       "2016.0     275\n",
       "2018.0     259\n",
       "2017.0     237\n",
       "2015.0     207\n",
       "2021.0      25\n",
       "2022.0       5\n",
       "Name: Ano, dtype: int64"
      ]
     },
     "execution_count": 9,
     "metadata": {},
     "output_type": "execute_result"
    }
   ],
   "source": [
    "data.loc[data.ProdTns.isnull(),\"Ano\"].value_counts()"
   ]
  },
  {
   "cell_type": "markdown",
   "metadata": {},
   "source": [
    "* No hay producción de maíz, trigo y soja en ciertas provincias \n",
    "\n",
    "(ojo, que esten no es un error, pueden ser destino intermedio)"
   ]
  },
  {
   "cell_type": "code",
   "execution_count": 10,
   "metadata": {},
   "outputs": [
    {
     "data": {
      "text/plain": [
       "CIUDAD AUTONOMA DE BUENOS AIRES    974\n",
       "MENDOZA                            143\n",
       "RIO NEGRO                           42\n",
       "CORRIENTES                          30\n",
       "LA RIOJA                            26\n",
       "FORMOSA                             16\n",
       "NEUQUEN                             14\n",
       "SAN JUAN                            13\n",
       "MISIONES                            12\n",
       "CHUBUT                               7\n",
       "SANTA CRUZ                           1\n",
       "TIERRA DEL FUEGO                     1\n",
       "Name: Provincia, dtype: int64"
      ]
     },
     "execution_count": 10,
     "metadata": {},
     "output_type": "execute_result"
    }
   ],
   "source": [
    "data.loc[(data.ProdTns.isnull()) & (~data.Ano.isin([2020,2021,2022])),\"Provincia\"].value_counts()"
   ]
  },
  {
   "cell_type": "markdown",
   "metadata": {},
   "source": [
    "### *Descripción de cada columna*\n",
    "\n",
    "#### **Vista general**"
   ]
  },
  {
   "cell_type": "code",
   "execution_count": 11,
   "metadata": {},
   "outputs": [
    {
     "data": {
      "text/html": [
       "<div>\n",
       "<style scoped>\n",
       "    .dataframe tbody tr th:only-of-type {\n",
       "        vertical-align: middle;\n",
       "    }\n",
       "\n",
       "    .dataframe tbody tr th {\n",
       "        vertical-align: top;\n",
       "    }\n",
       "\n",
       "    .dataframe thead th {\n",
       "        text-align: right;\n",
       "    }\n",
       "</style>\n",
       "<table border=\"1\" class=\"dataframe\">\n",
       "  <thead>\n",
       "    <tr style=\"text-align: right;\">\n",
       "      <th></th>\n",
       "      <th>Provincia</th>\n",
       "      <th>Cultivo</th>\n",
       "      <th>LugarEntrega</th>\n",
       "      <th>Mes</th>\n",
       "      <th>Ano</th>\n",
       "      <th>CantTns</th>\n",
       "      <th>EsFinal</th>\n",
       "      <th>EleccionesNac</th>\n",
       "      <th>EleccionesPre</th>\n",
       "      <th>ProdTns</th>\n",
       "      <th>EstresClimatico</th>\n",
       "      <th>MismaProvDestino</th>\n",
       "    </tr>\n",
       "  </thead>\n",
       "  <tbody>\n",
       "    <tr>\n",
       "      <th>count</th>\n",
       "      <td>33325</td>\n",
       "      <td>33325</td>\n",
       "      <td>33325</td>\n",
       "      <td>33325.0</td>\n",
       "      <td>33325.0</td>\n",
       "      <td>3.332500e+04</td>\n",
       "      <td>33325</td>\n",
       "      <td>33325</td>\n",
       "      <td>33325</td>\n",
       "      <td>3.049700e+04</td>\n",
       "      <td>33325</td>\n",
       "      <td>33325</td>\n",
       "    </tr>\n",
       "    <tr>\n",
       "      <th>unique</th>\n",
       "      <td>24</td>\n",
       "      <td>3</td>\n",
       "      <td>25</td>\n",
       "      <td>12.0</td>\n",
       "      <td>8.0</td>\n",
       "      <td>NaN</td>\n",
       "      <td>2</td>\n",
       "      <td>2</td>\n",
       "      <td>2</td>\n",
       "      <td>NaN</td>\n",
       "      <td>2</td>\n",
       "      <td>2</td>\n",
       "    </tr>\n",
       "    <tr>\n",
       "      <th>top</th>\n",
       "      <td>BUENOS AIRES</td>\n",
       "      <td>Maiz</td>\n",
       "      <td>Rosario N</td>\n",
       "      <td>12.0</td>\n",
       "      <td>2016.0</td>\n",
       "      <td>NaN</td>\n",
       "      <td>True</td>\n",
       "      <td>True</td>\n",
       "      <td>False</td>\n",
       "      <td>NaN</td>\n",
       "      <td>False</td>\n",
       "      <td>False</td>\n",
       "    </tr>\n",
       "    <tr>\n",
       "      <th>freq</th>\n",
       "      <td>5938</td>\n",
       "      <td>11842</td>\n",
       "      <td>3961</td>\n",
       "      <td>3202.0</td>\n",
       "      <td>6534.0</td>\n",
       "      <td>NaN</td>\n",
       "      <td>21833</td>\n",
       "      <td>18625</td>\n",
       "      <td>20925</td>\n",
       "      <td>NaN</td>\n",
       "      <td>28103</td>\n",
       "      <td>22513</td>\n",
       "    </tr>\n",
       "    <tr>\n",
       "      <th>mean</th>\n",
       "      <td>NaN</td>\n",
       "      <td>NaN</td>\n",
       "      <td>NaN</td>\n",
       "      <td>NaN</td>\n",
       "      <td>NaN</td>\n",
       "      <td>1.532754e+04</td>\n",
       "      <td>NaN</td>\n",
       "      <td>NaN</td>\n",
       "      <td>NaN</td>\n",
       "      <td>5.618453e+06</td>\n",
       "      <td>NaN</td>\n",
       "      <td>NaN</td>\n",
       "    </tr>\n",
       "    <tr>\n",
       "      <th>std</th>\n",
       "      <td>NaN</td>\n",
       "      <td>NaN</td>\n",
       "      <td>NaN</td>\n",
       "      <td>NaN</td>\n",
       "      <td>NaN</td>\n",
       "      <td>6.123055e+04</td>\n",
       "      <td>NaN</td>\n",
       "      <td>NaN</td>\n",
       "      <td>NaN</td>\n",
       "      <td>5.932993e+06</td>\n",
       "      <td>NaN</td>\n",
       "      <td>NaN</td>\n",
       "    </tr>\n",
       "    <tr>\n",
       "      <th>min</th>\n",
       "      <td>NaN</td>\n",
       "      <td>NaN</td>\n",
       "      <td>NaN</td>\n",
       "      <td>NaN</td>\n",
       "      <td>NaN</td>\n",
       "      <td>1.000000e-02</td>\n",
       "      <td>NaN</td>\n",
       "      <td>NaN</td>\n",
       "      <td>NaN</td>\n",
       "      <td>3.613000e+03</td>\n",
       "      <td>NaN</td>\n",
       "      <td>NaN</td>\n",
       "    </tr>\n",
       "    <tr>\n",
       "      <th>25%</th>\n",
       "      <td>NaN</td>\n",
       "      <td>NaN</td>\n",
       "      <td>NaN</td>\n",
       "      <td>NaN</td>\n",
       "      <td>NaN</td>\n",
       "      <td>2.800000e+02</td>\n",
       "      <td>NaN</td>\n",
       "      <td>NaN</td>\n",
       "      <td>NaN</td>\n",
       "      <td>1.115157e+06</td>\n",
       "      <td>NaN</td>\n",
       "      <td>NaN</td>\n",
       "    </tr>\n",
       "    <tr>\n",
       "      <th>50%</th>\n",
       "      <td>NaN</td>\n",
       "      <td>NaN</td>\n",
       "      <td>NaN</td>\n",
       "      <td>NaN</td>\n",
       "      <td>NaN</td>\n",
       "      <td>1.369380e+03</td>\n",
       "      <td>NaN</td>\n",
       "      <td>NaN</td>\n",
       "      <td>NaN</td>\n",
       "      <td>3.027430e+06</td>\n",
       "      <td>NaN</td>\n",
       "      <td>NaN</td>\n",
       "    </tr>\n",
       "    <tr>\n",
       "      <th>75%</th>\n",
       "      <td>NaN</td>\n",
       "      <td>NaN</td>\n",
       "      <td>NaN</td>\n",
       "      <td>NaN</td>\n",
       "      <td>NaN</td>\n",
       "      <td>7.267110e+03</td>\n",
       "      <td>NaN</td>\n",
       "      <td>NaN</td>\n",
       "      <td>NaN</td>\n",
       "      <td>9.017580e+06</td>\n",
       "      <td>NaN</td>\n",
       "      <td>NaN</td>\n",
       "    </tr>\n",
       "    <tr>\n",
       "      <th>max</th>\n",
       "      <td>NaN</td>\n",
       "      <td>NaN</td>\n",
       "      <td>NaN</td>\n",
       "      <td>NaN</td>\n",
       "      <td>NaN</td>\n",
       "      <td>2.022576e+06</td>\n",
       "      <td>NaN</td>\n",
       "      <td>NaN</td>\n",
       "      <td>NaN</td>\n",
       "      <td>2.165595e+07</td>\n",
       "      <td>NaN</td>\n",
       "      <td>NaN</td>\n",
       "    </tr>\n",
       "  </tbody>\n",
       "</table>\n",
       "</div>"
      ],
      "text/plain": [
       "           Provincia Cultivo LugarEntrega      Mes      Ano       CantTns  \\\n",
       "count          33325   33325        33325  33325.0  33325.0  3.332500e+04   \n",
       "unique            24       3           25     12.0      8.0           NaN   \n",
       "top     BUENOS AIRES    Maiz    Rosario N     12.0   2016.0           NaN   \n",
       "freq            5938   11842         3961   3202.0   6534.0           NaN   \n",
       "mean             NaN     NaN          NaN      NaN      NaN  1.532754e+04   \n",
       "std              NaN     NaN          NaN      NaN      NaN  6.123055e+04   \n",
       "min              NaN     NaN          NaN      NaN      NaN  1.000000e-02   \n",
       "25%              NaN     NaN          NaN      NaN      NaN  2.800000e+02   \n",
       "50%              NaN     NaN          NaN      NaN      NaN  1.369380e+03   \n",
       "75%              NaN     NaN          NaN      NaN      NaN  7.267110e+03   \n",
       "max              NaN     NaN          NaN      NaN      NaN  2.022576e+06   \n",
       "\n",
       "       EsFinal EleccionesNac EleccionesPre       ProdTns EstresClimatico  \\\n",
       "count    33325         33325         33325  3.049700e+04           33325   \n",
       "unique       2             2             2           NaN               2   \n",
       "top       True          True         False           NaN           False   \n",
       "freq     21833         18625         20925           NaN           28103   \n",
       "mean       NaN           NaN           NaN  5.618453e+06             NaN   \n",
       "std        NaN           NaN           NaN  5.932993e+06             NaN   \n",
       "min        NaN           NaN           NaN  3.613000e+03             NaN   \n",
       "25%        NaN           NaN           NaN  1.115157e+06             NaN   \n",
       "50%        NaN           NaN           NaN  3.027430e+06             NaN   \n",
       "75%        NaN           NaN           NaN  9.017580e+06             NaN   \n",
       "max        NaN           NaN           NaN  2.165595e+07             NaN   \n",
       "\n",
       "       MismaProvDestino  \n",
       "count             33325  \n",
       "unique                2  \n",
       "top               False  \n",
       "freq              22513  \n",
       "mean                NaN  \n",
       "std                 NaN  \n",
       "min                 NaN  \n",
       "25%                 NaN  \n",
       "50%                 NaN  \n",
       "75%                 NaN  \n",
       "max                 NaN  "
      ]
     },
     "execution_count": 11,
     "metadata": {},
     "output_type": "execute_result"
    }
   ],
   "source": [
    "include =['object', 'float', 'int',\"bool\",\"category\"]\n",
    "data.describe(include = include)"
   ]
  },
  {
   "cell_type": "markdown",
   "metadata": {},
   "source": [
    "#### **CantTns**\n",
    "\n",
    "Concentracion de pequeñas cantidades transportadas\n",
    "\n",
    "Vista en miles de toneladas"
   ]
  },
  {
   "cell_type": "code",
   "execution_count": 13,
   "metadata": {},
   "outputs": [
    {
     "data": {
      "text/plain": [
       "count      33.325000\n",
       "mean       15.327545\n",
       "std        61.230551\n",
       "min         0.000010\n",
       "25%         0.280000\n",
       "50%         1.369380\n",
       "75%         7.267110\n",
       "max      2022.575680\n",
       "Name: CantTns, dtype: float64"
      ]
     },
     "execution_count": 13,
     "metadata": {},
     "output_type": "execute_result"
    }
   ],
   "source": [
    "data['CantTns'].describe()/1000\n"
   ]
  },
  {
   "cell_type": "markdown",
   "metadata": {},
   "source": [
    "Distribucion asimétrica, sesgada hacia la derecha"
   ]
  },
  {
   "cell_type": "code",
   "execution_count": 15,
   "metadata": {},
   "outputs": [
    {
     "data": {
      "text/plain": [
       "12.304893703868022"
      ]
     },
     "execution_count": 15,
     "metadata": {},
     "output_type": "execute_result"
    }
   ],
   "source": [
    "data['CantTns'].skew()"
   ]
  },
  {
   "cell_type": "markdown",
   "metadata": {},
   "source": [
    "Visualmente se puede llegar a la misma conclusión"
   ]
  },
  {
   "cell_type": "code",
   "execution_count": 17,
   "metadata": {},
   "outputs": [
    {
     "data": {
      "text/plain": [
       "[Text(0, 0.5, 'Porcentaje de Casos'),\n",
       " Text(0.5, 0, 'Miles de Toneladas Transportadas'),\n",
       " Text(0.5, 1.0, 'Histograma de Cantidades Transportadas')]"
      ]
     },
     "execution_count": 17,
     "metadata": {},
     "output_type": "execute_result"
    },
    {
     "data": {
      "image/png": "[encoded data removed]",
      "text/plain": [
       "<Figure size 432x288 with 1 Axes>"
      ]
     },
     "metadata": {
      "needs_background": "light"
     },
     "output_type": "display_data"
    }
   ],
   "source": [
    "sns.distplot((data['CantTns']/1000)).set(xlabel='Miles de Toneladas Transportadas', ylabel='Porcentaje de Casos', title='Histograma de Cantidades Transportadas')"
   ]
  },
  {
   "cell_type": "code",
   "execution_count": null,
   "metadata": {},
   "outputs": [],
   "source": [
    "\n",
    "    "
   ]
  },
  {
   "cell_type": "markdown",
   "metadata": {},
   "source": [
    "#### *Años*\n",
    "\n",
    "Porcentaje de valores únicos"
   ]
  },
  {
   "cell_type": "code",
   "execution_count": 20,
   "metadata": {},
   "outputs": [
    {
     "data": {
      "text/plain": [
       "2022.0     0.015004\n",
       "2021.0     0.075019\n",
       "2020.0     5.797449\n",
       "2015.0    17.824456\n",
       "2018.0    18.562641\n",
       "2017.0    18.703676\n",
       "2019.0    19.414854\n",
       "2016.0    19.606902\n",
       "Name: Ano, dtype: float64"
      ]
     },
     "execution_count": 20,
     "metadata": {},
     "output_type": "execute_result"
    }
   ],
   "source": [
    "data.Ano.value_counts(normalize=True,ascending=True)*100"
   ]
  },
  {
   "cell_type": "markdown",
   "metadata": {},
   "source": [
    "### *Matriz de Correlaciones*"
   ]
  },
  {
   "cell_type": "code",
   "execution_count": 18,
   "metadata": {},
   "outputs": [
    {
     "data": {
      "text/html": [
       "<div>\n",
       "<style scoped>\n",
       "    .dataframe tbody tr th:only-of-type {\n",
       "        vertical-align: middle;\n",
       "    }\n",
       "\n",
       "    .dataframe tbody tr th {\n",
       "        vertical-align: top;\n",
       "    }\n",
       "\n",
       "    .dataframe thead th {\n",
       "        text-align: right;\n",
       "    }\n",
       "</style>\n",
       "<table border=\"1\" class=\"dataframe\">\n",
       "  <thead>\n",
       "    <tr style=\"text-align: right;\">\n",
       "      <th></th>\n",
       "      <th>CantTns</th>\n",
       "      <th>EsFinal</th>\n",
       "      <th>EleccionesNac</th>\n",
       "      <th>EleccionesPre</th>\n",
       "      <th>ProdTns</th>\n",
       "      <th>EstresClimatico</th>\n",
       "      <th>MismaProvDestino</th>\n",
       "    </tr>\n",
       "  </thead>\n",
       "  <tbody>\n",
       "    <tr>\n",
       "      <th>CantTns</th>\n",
       "      <td>1.000000</td>\n",
       "      <td>0.110278</td>\n",
       "      <td>0.008451</td>\n",
       "      <td>0.009914</td>\n",
       "      <td>0.173126</td>\n",
       "      <td>0.006913</td>\n",
       "      <td>0.170237</td>\n",
       "    </tr>\n",
       "    <tr>\n",
       "      <th>EsFinal</th>\n",
       "      <td>0.110278</td>\n",
       "      <td>1.000000</td>\n",
       "      <td>-0.012491</td>\n",
       "      <td>-0.002861</td>\n",
       "      <td>-0.096402</td>\n",
       "      <td>-0.006463</td>\n",
       "      <td>-0.133166</td>\n",
       "    </tr>\n",
       "    <tr>\n",
       "      <th>EleccionesNac</th>\n",
       "      <td>0.008451</td>\n",
       "      <td>-0.012491</td>\n",
       "      <td>1.000000</td>\n",
       "      <td>0.683894</td>\n",
       "      <td>0.080546</td>\n",
       "      <td>0.042141</td>\n",
       "      <td>-0.003061</td>\n",
       "    </tr>\n",
       "    <tr>\n",
       "      <th>EleccionesPre</th>\n",
       "      <td>0.009914</td>\n",
       "      <td>-0.002861</td>\n",
       "      <td>0.683894</td>\n",
       "      <td>1.000000</td>\n",
       "      <td>0.050983</td>\n",
       "      <td>0.060956</td>\n",
       "      <td>-0.000407</td>\n",
       "    </tr>\n",
       "    <tr>\n",
       "      <th>ProdTns</th>\n",
       "      <td>0.173126</td>\n",
       "      <td>-0.096402</td>\n",
       "      <td>0.080546</td>\n",
       "      <td>0.050983</td>\n",
       "      <td>1.000000</td>\n",
       "      <td>0.067176</td>\n",
       "      <td>0.204544</td>\n",
       "    </tr>\n",
       "    <tr>\n",
       "      <th>EstresClimatico</th>\n",
       "      <td>0.006913</td>\n",
       "      <td>-0.006463</td>\n",
       "      <td>0.042141</td>\n",
       "      <td>0.060956</td>\n",
       "      <td>0.067176</td>\n",
       "      <td>1.000000</td>\n",
       "      <td>0.057264</td>\n",
       "    </tr>\n",
       "    <tr>\n",
       "      <th>MismaProvDestino</th>\n",
       "      <td>0.170237</td>\n",
       "      <td>-0.133166</td>\n",
       "      <td>-0.003061</td>\n",
       "      <td>-0.000407</td>\n",
       "      <td>0.204544</td>\n",
       "      <td>0.057264</td>\n",
       "      <td>1.000000</td>\n",
       "    </tr>\n",
       "  </tbody>\n",
       "</table>\n",
       "</div>"
      ],
      "text/plain": [
       "                   CantTns   EsFinal  EleccionesNac  EleccionesPre   ProdTns  \\\n",
       "CantTns           1.000000  0.110278       0.008451       0.009914  0.173126   \n",
       "EsFinal           0.110278  1.000000      -0.012491      -0.002861 -0.096402   \n",
       "EleccionesNac     0.008451 -0.012491       1.000000       0.683894  0.080546   \n",
       "EleccionesPre     0.009914 -0.002861       0.683894       1.000000  0.050983   \n",
       "ProdTns           0.173126 -0.096402       0.080546       0.050983  1.000000   \n",
       "EstresClimatico   0.006913 -0.006463       0.042141       0.060956  0.067176   \n",
       "MismaProvDestino  0.170237 -0.133166      -0.003061      -0.000407  0.204544   \n",
       "\n",
       "                  EstresClimatico  MismaProvDestino  \n",
       "CantTns                  0.006913          0.170237  \n",
       "EsFinal                 -0.006463         -0.133166  \n",
       "EleccionesNac            0.042141         -0.003061  \n",
       "EleccionesPre            0.060956         -0.000407  \n",
       "ProdTns                  0.067176          0.204544  \n",
       "EstresClimatico          1.000000          0.057264  \n",
       "MismaProvDestino         0.057264          1.000000  "
      ]
     },
     "execution_count": 18,
     "metadata": {},
     "output_type": "execute_result"
    }
   ],
   "source": [
    "data.corr()"
   ]
  },
  {
   "cell_type": "markdown",
   "metadata": {},
   "source": [
    "Visualización de la matriz de correlaciones\n",
    "\n",
    "Los aspectos mas importantes a destacar son que:\n",
    "* No pareciera haber correlaciones fuertes entre las variables (salvo Elecciones Nacionales y Presidenciales).\n",
    "* Las producciones provinciales se correlacionan negativamente con provincias que son destinos finales del grano.\n",
    "* Provincias que son destinos Finales se correlacionan negativamente con destinos a misma provincia."
   ]
  },
  {
   "cell_type": "code",
   "execution_count": 19,
   "metadata": {},
   "outputs": [
    {
     "data": {
      "text/plain": [
       "<matplotlib.axes._subplots.AxesSubplot at 0x1f14367dcf8>"
      ]
     },
     "execution_count": 19,
     "metadata": {},
     "output_type": "execute_result"
    },
    {
     "data": {
      "image/png": "[encoded data removed]",
      "text/plain": [
       "<Figure size 864x648 with 2 Axes>"
      ]
     },
     "metadata": {
      "needs_background": "light"
     },
     "output_type": "display_data"
    }
   ],
   "source": [
    "corrmat = data.corr()\n",
    "f, ax = plt.subplots(figsize=(12, 9))\n",
    "sns.heatmap(corrmat, vmax=.9)"
   ]
  },
  {
   "cell_type": "markdown",
   "metadata": {},
   "source": [
    "## *Ahora vamos a responder las 4 hipótesis*\n",
    "\n",
    "1. Las zonas más alejadas a los puertos tienen una mayor comercialización hacia zonas aledañas, debido al mayor costo de transporte.\n",
    "2. Los flujos comerciales varían según el tipo de grano, debido a la estacionalidad de su cosecha.\n",
    "3. En zonas con problemas climáticos, se aumenta la comercialización hacia destinos finales (sin pasar por acopios), porque los productores tienen mayor poder de negociación.\n",
    "4. Las campañas que se encuentran atravesadas por elecciones presidenciales tienen una mayor dilatación de la comercialización, producto de las expectativas sobre posibles cambios en las políticas agrícolas.\n"
   ]
  },
  {
   "cell_type": "code",
   "execution_count": null,
   "metadata": {},
   "outputs": [],
   "source": []
  }
 ],
 "metadata": {
  "kernelspec": {
   "display_name": "Python 3",
   "language": "python",
   "name": "python3"
  },
  "language_info": {
   "codemirror_mode": {
    "name": "ipython",
    "version": 3
   },
   "file_extension": ".py",
   "mimetype": "text/x-python",
   "name": "python",
   "nbconvert_exporter": "python",
   "pygments_lexer": "ipython3",
   "version": "3.7.1"
  }
 },
 "nbformat": 4,
 "nbformat_minor": 2
}
